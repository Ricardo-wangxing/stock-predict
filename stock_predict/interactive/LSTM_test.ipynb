{
 "cells": [
  {
   "cell_type": "code",
   "execution_count": 1,
   "metadata": {},
   "outputs": [],
   "source": [
    "import pandas as pd\n",
    "import numpy as np\n",
    "import matplotlib.pyplot as plt\n",
    "from sklearn.preprocessing import MinMaxScaler\n",
    "from keras.models import Sequential\n",
    "from keras.layers import Dense,LSTM,Dropout"
   ]
  },
  {
   "cell_type": "markdown",
   "metadata": {},
   "source": [
    "### 2. 加载历史股价"
   ]
  },
  {
   "cell_type": "code",
   "execution_count": 2,
   "metadata": {},
   "outputs": [],
   "source": [
    "import pymysql"
   ]
  },
  {
   "cell_type": "code",
   "execution_count": 3,
   "metadata": {},
   "outputs": [],
   "source": [
    "db = pymysql.connect(host=\"127.0.0.1\",user='root',passwd='123456',database='stock_info')\n",
    "cursor = db.cursor()"
   ]
  },
  {
   "cell_type": "code",
   "execution_count": 5,
   "metadata": {},
   "outputs": [],
   "source": [
    "cursor.execute(\"select * from hs300_stock_price_pool where code='000001.XSHE';\")\n",
    "data = cursor.fetchall()"
   ]
  },
  {
   "cell_type": "code",
   "execution_count": 6,
   "metadata": {},
   "outputs": [
    {
     "name": "stdout",
     "output_type": "stream",
     "text": [
      "<class 'tuple'>\n"
     ]
    }
   ],
   "source": [
    "print(type(data))"
   ]
  },
  {
   "cell_type": "code",
   "execution_count": 7,
   "metadata": {},
   "outputs": [],
   "source": [
    "df = pd.DataFrame(list(data))"
   ]
  },
  {
   "cell_type": "code",
   "execution_count": 9,
   "metadata": {},
   "outputs": [
    {
     "data": {
      "text/html": [
       "<div>\n",
       "<style scoped>\n",
       "    .dataframe tbody tr th:only-of-type {\n",
       "        vertical-align: middle;\n",
       "    }\n",
       "\n",
       "    .dataframe tbody tr th {\n",
       "        vertical-align: top;\n",
       "    }\n",
       "\n",
       "    .dataframe thead th {\n",
       "        text-align: right;\n",
       "    }\n",
       "</style>\n",
       "<table border=\"1\" class=\"dataframe\">\n",
       "  <thead>\n",
       "    <tr style=\"text-align: right;\">\n",
       "      <th></th>\n",
       "      <th>0</th>\n",
       "      <th>1</th>\n",
       "      <th>2</th>\n",
       "      <th>3</th>\n",
       "      <th>4</th>\n",
       "      <th>5</th>\n",
       "      <th>6</th>\n",
       "      <th>7</th>\n",
       "    </tr>\n",
       "  </thead>\n",
       "  <tbody>\n",
       "    <tr>\n",
       "      <th>0</th>\n",
       "      <td>786426</td>\n",
       "      <td>000001.XSHE</td>\n",
       "      <td>平安银行</td>\n",
       "      <td>1991-04-03</td>\n",
       "      <td>-0.74</td>\n",
       "      <td>-0.74</td>\n",
       "      <td>-0.74</td>\n",
       "      <td>-0.74</td>\n",
       "    </tr>\n",
       "    <tr>\n",
       "      <th>1</th>\n",
       "      <td>786427</td>\n",
       "      <td>000001.XSHE</td>\n",
       "      <td>平安银行</td>\n",
       "      <td>1991-04-04</td>\n",
       "      <td>-0.74</td>\n",
       "      <td>-0.74</td>\n",
       "      <td>-0.74</td>\n",
       "      <td>-0.74</td>\n",
       "    </tr>\n",
       "    <tr>\n",
       "      <th>2</th>\n",
       "      <td>786428</td>\n",
       "      <td>000001.XSHE</td>\n",
       "      <td>平安银行</td>\n",
       "      <td>1991-04-05</td>\n",
       "      <td>-0.74</td>\n",
       "      <td>-0.74</td>\n",
       "      <td>-0.74</td>\n",
       "      <td>-0.74</td>\n",
       "    </tr>\n",
       "    <tr>\n",
       "      <th>3</th>\n",
       "      <td>786429</td>\n",
       "      <td>000001.XSHE</td>\n",
       "      <td>平安银行</td>\n",
       "      <td>1991-04-06</td>\n",
       "      <td>-0.74</td>\n",
       "      <td>-0.74</td>\n",
       "      <td>-0.74</td>\n",
       "      <td>-0.74</td>\n",
       "    </tr>\n",
       "    <tr>\n",
       "      <th>4</th>\n",
       "      <td>786430</td>\n",
       "      <td>000001.XSHE</td>\n",
       "      <td>平安银行</td>\n",
       "      <td>1991-04-08</td>\n",
       "      <td>-0.74</td>\n",
       "      <td>-0.74</td>\n",
       "      <td>-0.74</td>\n",
       "      <td>-0.74</td>\n",
       "    </tr>\n",
       "  </tbody>\n",
       "</table>\n",
       "</div>"
      ],
      "text/plain": [
       "        0            1     2           3     4     5     6     7\n",
       "0  786426  000001.XSHE  平安银行  1991-04-03 -0.74 -0.74 -0.74 -0.74\n",
       "1  786427  000001.XSHE  平安银行  1991-04-04 -0.74 -0.74 -0.74 -0.74\n",
       "2  786428  000001.XSHE  平安银行  1991-04-05 -0.74 -0.74 -0.74 -0.74\n",
       "3  786429  000001.XSHE  平安银行  1991-04-06 -0.74 -0.74 -0.74 -0.74\n",
       "4  786430  000001.XSHE  平安银行  1991-04-08 -0.74 -0.74 -0.74 -0.74"
      ]
     },
     "execution_count": 9,
     "metadata": {},
     "output_type": "execute_result"
    }
   ],
   "source": [
    "df.head()"
   ]
  },
  {
   "cell_type": "code",
   "execution_count": 10,
   "metadata": {},
   "outputs": [],
   "source": [
    "del df[0]"
   ]
  },
  {
   "cell_type": "code",
   "execution_count": 12,
   "metadata": {},
   "outputs": [
    {
     "data": {
      "text/html": [
       "<div>\n",
       "<style scoped>\n",
       "    .dataframe tbody tr th:only-of-type {\n",
       "        vertical-align: middle;\n",
       "    }\n",
       "\n",
       "    .dataframe tbody tr th {\n",
       "        vertical-align: top;\n",
       "    }\n",
       "\n",
       "    .dataframe thead th {\n",
       "        text-align: right;\n",
       "    }\n",
       "</style>\n",
       "<table border=\"1\" class=\"dataframe\">\n",
       "  <thead>\n",
       "    <tr style=\"text-align: right;\">\n",
       "      <th></th>\n",
       "      <th>1</th>\n",
       "      <th>3</th>\n",
       "      <th>4</th>\n",
       "      <th>5</th>\n",
       "      <th>6</th>\n",
       "      <th>7</th>\n",
       "    </tr>\n",
       "  </thead>\n",
       "  <tbody>\n",
       "    <tr>\n",
       "      <th>0</th>\n",
       "      <td>000001.XSHE</td>\n",
       "      <td>1991-04-03</td>\n",
       "      <td>-0.74</td>\n",
       "      <td>-0.74</td>\n",
       "      <td>-0.74</td>\n",
       "      <td>-0.74</td>\n",
       "    </tr>\n",
       "    <tr>\n",
       "      <th>1</th>\n",
       "      <td>000001.XSHE</td>\n",
       "      <td>1991-04-04</td>\n",
       "      <td>-0.74</td>\n",
       "      <td>-0.74</td>\n",
       "      <td>-0.74</td>\n",
       "      <td>-0.74</td>\n",
       "    </tr>\n",
       "    <tr>\n",
       "      <th>2</th>\n",
       "      <td>000001.XSHE</td>\n",
       "      <td>1991-04-05</td>\n",
       "      <td>-0.74</td>\n",
       "      <td>-0.74</td>\n",
       "      <td>-0.74</td>\n",
       "      <td>-0.74</td>\n",
       "    </tr>\n",
       "    <tr>\n",
       "      <th>3</th>\n",
       "      <td>000001.XSHE</td>\n",
       "      <td>1991-04-06</td>\n",
       "      <td>-0.74</td>\n",
       "      <td>-0.74</td>\n",
       "      <td>-0.74</td>\n",
       "      <td>-0.74</td>\n",
       "    </tr>\n",
       "    <tr>\n",
       "      <th>4</th>\n",
       "      <td>000001.XSHE</td>\n",
       "      <td>1991-04-08</td>\n",
       "      <td>-0.74</td>\n",
       "      <td>-0.74</td>\n",
       "      <td>-0.74</td>\n",
       "      <td>-0.74</td>\n",
       "    </tr>\n",
       "  </tbody>\n",
       "</table>\n",
       "</div>"
      ],
      "text/plain": [
       "             1           3     4     5     6     7\n",
       "0  000001.XSHE  1991-04-03 -0.74 -0.74 -0.74 -0.74\n",
       "1  000001.XSHE  1991-04-04 -0.74 -0.74 -0.74 -0.74\n",
       "2  000001.XSHE  1991-04-05 -0.74 -0.74 -0.74 -0.74\n",
       "3  000001.XSHE  1991-04-06 -0.74 -0.74 -0.74 -0.74\n",
       "4  000001.XSHE  1991-04-08 -0.74 -0.74 -0.74 -0.74"
      ]
     },
     "execution_count": 12,
     "metadata": {},
     "output_type": "execute_result"
    }
   ],
   "source": [
    "\n",
    "del df[2]\n",
    "df.head()"
   ]
  },
  {
   "cell_type": "code",
   "execution_count": 13,
   "metadata": {},
   "outputs": [],
   "source": [
    "df.rename(columns={1:\"code\",3:'date',4:'open',5:'close',6:'high',7:'low'},inplace=True)"
   ]
  },
  {
   "cell_type": "code",
   "execution_count": 14,
   "metadata": {},
   "outputs": [
    {
     "data": {
      "text/html": [
       "<div>\n",
       "<style scoped>\n",
       "    .dataframe tbody tr th:only-of-type {\n",
       "        vertical-align: middle;\n",
       "    }\n",
       "\n",
       "    .dataframe tbody tr th {\n",
       "        vertical-align: top;\n",
       "    }\n",
       "\n",
       "    .dataframe thead th {\n",
       "        text-align: right;\n",
       "    }\n",
       "</style>\n",
       "<table border=\"1\" class=\"dataframe\">\n",
       "  <thead>\n",
       "    <tr style=\"text-align: right;\">\n",
       "      <th></th>\n",
       "      <th>code</th>\n",
       "      <th>date</th>\n",
       "      <th>open</th>\n",
       "      <th>close</th>\n",
       "      <th>high</th>\n",
       "      <th>low</th>\n",
       "    </tr>\n",
       "  </thead>\n",
       "  <tbody>\n",
       "    <tr>\n",
       "      <th>0</th>\n",
       "      <td>000001.XSHE</td>\n",
       "      <td>1991-04-03</td>\n",
       "      <td>-0.74</td>\n",
       "      <td>-0.74</td>\n",
       "      <td>-0.74</td>\n",
       "      <td>-0.74</td>\n",
       "    </tr>\n",
       "    <tr>\n",
       "      <th>1</th>\n",
       "      <td>000001.XSHE</td>\n",
       "      <td>1991-04-04</td>\n",
       "      <td>-0.74</td>\n",
       "      <td>-0.74</td>\n",
       "      <td>-0.74</td>\n",
       "      <td>-0.74</td>\n",
       "    </tr>\n",
       "    <tr>\n",
       "      <th>2</th>\n",
       "      <td>000001.XSHE</td>\n",
       "      <td>1991-04-05</td>\n",
       "      <td>-0.74</td>\n",
       "      <td>-0.74</td>\n",
       "      <td>-0.74</td>\n",
       "      <td>-0.74</td>\n",
       "    </tr>\n",
       "    <tr>\n",
       "      <th>3</th>\n",
       "      <td>000001.XSHE</td>\n",
       "      <td>1991-04-06</td>\n",
       "      <td>-0.74</td>\n",
       "      <td>-0.74</td>\n",
       "      <td>-0.74</td>\n",
       "      <td>-0.74</td>\n",
       "    </tr>\n",
       "    <tr>\n",
       "      <th>4</th>\n",
       "      <td>000001.XSHE</td>\n",
       "      <td>1991-04-08</td>\n",
       "      <td>-0.74</td>\n",
       "      <td>-0.74</td>\n",
       "      <td>-0.74</td>\n",
       "      <td>-0.74</td>\n",
       "    </tr>\n",
       "  </tbody>\n",
       "</table>\n",
       "</div>"
      ],
      "text/plain": [
       "          code        date  open  close  high   low\n",
       "0  000001.XSHE  1991-04-03 -0.74  -0.74 -0.74 -0.74\n",
       "1  000001.XSHE  1991-04-04 -0.74  -0.74 -0.74 -0.74\n",
       "2  000001.XSHE  1991-04-05 -0.74  -0.74 -0.74 -0.74\n",
       "3  000001.XSHE  1991-04-06 -0.74  -0.74 -0.74 -0.74\n",
       "4  000001.XSHE  1991-04-08 -0.74  -0.74 -0.74 -0.74"
      ]
     },
     "execution_count": 14,
     "metadata": {},
     "output_type": "execute_result"
    }
   ],
   "source": [
    "df.head()"
   ]
  },
  {
   "cell_type": "code",
   "execution_count": 15,
   "metadata": {},
   "outputs": [
    {
     "data": {
      "text/plain": [
       "(7415, 6)"
      ]
     },
     "execution_count": 15,
     "metadata": {},
     "output_type": "execute_result"
    }
   ],
   "source": [
    "df.shape"
   ]
  },
  {
   "cell_type": "code",
   "execution_count": 16,
   "metadata": {},
   "outputs": [],
   "source": [
    "df = df.set_index('date')"
   ]
  },
  {
   "cell_type": "code",
   "execution_count": 26,
   "metadata": {},
   "outputs": [
    {
     "data": {
      "text/html": [
       "<div>\n",
       "<style scoped>\n",
       "    .dataframe tbody tr th:only-of-type {\n",
       "        vertical-align: middle;\n",
       "    }\n",
       "\n",
       "    .dataframe tbody tr th {\n",
       "        vertical-align: top;\n",
       "    }\n",
       "\n",
       "    .dataframe thead th {\n",
       "        text-align: right;\n",
       "    }\n",
       "</style>\n",
       "<table border=\"1\" class=\"dataframe\">\n",
       "  <thead>\n",
       "    <tr style=\"text-align: right;\">\n",
       "      <th></th>\n",
       "      <th>close</th>\n",
       "    </tr>\n",
       "    <tr>\n",
       "      <th>date</th>\n",
       "      <th></th>\n",
       "    </tr>\n",
       "  </thead>\n",
       "  <tbody>\n",
       "    <tr>\n",
       "      <th>1991-04-03</th>\n",
       "      <td>-0.74</td>\n",
       "    </tr>\n",
       "    <tr>\n",
       "      <th>1991-04-04</th>\n",
       "      <td>-0.74</td>\n",
       "    </tr>\n",
       "    <tr>\n",
       "      <th>1991-04-05</th>\n",
       "      <td>-0.74</td>\n",
       "    </tr>\n",
       "    <tr>\n",
       "      <th>1991-04-06</th>\n",
       "      <td>-0.74</td>\n",
       "    </tr>\n",
       "    <tr>\n",
       "      <th>1991-04-08</th>\n",
       "      <td>-0.74</td>\n",
       "    </tr>\n",
       "    <tr>\n",
       "      <th>...</th>\n",
       "      <td>...</td>\n",
       "    </tr>\n",
       "    <tr>\n",
       "      <th>2019-12-25</th>\n",
       "      <td>15.90</td>\n",
       "    </tr>\n",
       "    <tr>\n",
       "      <th>2019-12-26</th>\n",
       "      <td>16.07</td>\n",
       "    </tr>\n",
       "    <tr>\n",
       "      <th>2019-12-27</th>\n",
       "      <td>16.23</td>\n",
       "    </tr>\n",
       "    <tr>\n",
       "      <th>2019-12-30</th>\n",
       "      <td>16.17</td>\n",
       "    </tr>\n",
       "    <tr>\n",
       "      <th>2019-12-31</th>\n",
       "      <td>16.05</td>\n",
       "    </tr>\n",
       "  </tbody>\n",
       "</table>\n",
       "<p>6854 rows × 1 columns</p>\n",
       "</div>"
      ],
      "text/plain": [
       "            close\n",
       "date             \n",
       "1991-04-03  -0.74\n",
       "1991-04-04  -0.74\n",
       "1991-04-05  -0.74\n",
       "1991-04-06  -0.74\n",
       "1991-04-08  -0.74\n",
       "...           ...\n",
       "2019-12-25  15.90\n",
       "2019-12-26  16.07\n",
       "2019-12-27  16.23\n",
       "2019-12-30  16.17\n",
       "2019-12-31  16.05\n",
       "\n",
       "[6854 rows x 1 columns]"
      ]
     },
     "execution_count": 26,
     "metadata": {},
     "output_type": "execute_result"
    }
   ],
   "source": [
    "from datetime import date\n",
    "df[:date.fromisoformat(\"2020-01-01\")].iloc[:,[2]]"
   ]
  },
  {
   "cell_type": "code",
   "execution_count": 27,
   "metadata": {},
   "outputs": [],
   "source": [
    "training_set = df[:date.fromisoformat(\"2020-01-01\")].iloc[:,[2]]"
   ]
  },
  {
   "cell_type": "code",
   "execution_count": 31,
   "metadata": {},
   "outputs": [
    {
     "data": {
      "text/html": [
       "<div>\n",
       "<style scoped>\n",
       "    .dataframe tbody tr th:only-of-type {\n",
       "        vertical-align: middle;\n",
       "    }\n",
       "\n",
       "    .dataframe tbody tr th {\n",
       "        vertical-align: top;\n",
       "    }\n",
       "\n",
       "    .dataframe thead th {\n",
       "        text-align: right;\n",
       "    }\n",
       "</style>\n",
       "<table border=\"1\" class=\"dataframe\">\n",
       "  <thead>\n",
       "    <tr style=\"text-align: right;\">\n",
       "      <th></th>\n",
       "      <th>close</th>\n",
       "    </tr>\n",
       "    <tr>\n",
       "      <th>date</th>\n",
       "      <th></th>\n",
       "    </tr>\n",
       "  </thead>\n",
       "  <tbody>\n",
       "    <tr>\n",
       "      <th>2019-12-25</th>\n",
       "      <td>15.90</td>\n",
       "    </tr>\n",
       "    <tr>\n",
       "      <th>2019-12-26</th>\n",
       "      <td>16.07</td>\n",
       "    </tr>\n",
       "    <tr>\n",
       "      <th>2019-12-27</th>\n",
       "      <td>16.23</td>\n",
       "    </tr>\n",
       "    <tr>\n",
       "      <th>2019-12-30</th>\n",
       "      <td>16.17</td>\n",
       "    </tr>\n",
       "    <tr>\n",
       "      <th>2019-12-31</th>\n",
       "      <td>16.05</td>\n",
       "    </tr>\n",
       "  </tbody>\n",
       "</table>\n",
       "</div>"
      ],
      "text/plain": [
       "            close\n",
       "date             \n",
       "2019-12-25  15.90\n",
       "2019-12-26  16.07\n",
       "2019-12-27  16.23\n",
       "2019-12-30  16.17\n",
       "2019-12-31  16.05"
      ]
     },
     "execution_count": 31,
     "metadata": {},
     "output_type": "execute_result"
    }
   ],
   "source": [
    "training_set.tail()"
   ]
  },
  {
   "cell_type": "code",
   "execution_count": 28,
   "metadata": {},
   "outputs": [],
   "source": [
    "test_set = df[date.fromisoformat(\"2020-01-01\"):].iloc[:,[2]]"
   ]
  },
  {
   "cell_type": "code",
   "execution_count": 66,
   "metadata": {},
   "outputs": [
    {
     "data": {
      "text/plain": [
       "(561, 1)"
      ]
     },
     "execution_count": 66,
     "metadata": {},
     "output_type": "execute_result"
    }
   ],
   "source": [
    "test_set.shape"
   ]
  },
  {
   "cell_type": "code",
   "execution_count": 96,
   "metadata": {},
   "outputs": [],
   "source": [
    "def plot_predictions(test_result,predict_result,stock_name):\n",
    "    \"\"\"\n",
    "    test_result: 真实值\n",
    "    predict_result: 预测值\n",
    "    \"\"\"\n",
    "    # plt.figure(figsize=(12.8, 7.2))\n",
    "    plt.plot(test_result,color='red',label=\"{} true stock_price\".format(stock_name))\n",
    "    plt.plot(predict_result,color='blue',label='{} predict stock price'.format(stock_name))\n",
    "    plt.title(\"{} stock price\".format(stock_name))\n",
    "    plt.xlabel(\"Time\")\n",
    "    plt.ylabel(\"Stock Price\")\n",
    "    plt.legend()\n",
    "    plt.show()"
   ]
  },
  {
   "cell_type": "code",
   "execution_count": 33,
   "metadata": {},
   "outputs": [
    {
     "data": {
      "image/png": "[encoded data removed]",
      "text/plain": [
       "<Figure size 1152x288 with 1 Axes>"
      ]
     },
     "metadata": {
      "needs_background": "light"
     },
     "output_type": "display_data"
    }
   ],
   "source": [
    "df['close'][:date.fromisoformat(\"2020-01-01\")].plot(figsize=(16,4),legend=True)\n",
    "df['close'][date.fromisoformat(\"2020-01-01\"):].plot(figsize=(16,4),legend=True)\n",
    "plt.title(\"stock price\")\n",
    "plt.legend([\"train set\",\"test set\"])\n",
    "plt.show()"
   ]
  },
  {
   "cell_type": "code",
   "execution_count": 138,
   "metadata": {},
   "outputs": [],
   "source": [
    "# 正则化：将每一维度的特征映射到指定区间：[0,1]\n",
    "sc = MinMaxScaler(feature_range=[0,1])\n",
    "training_set_scaled = sc.fit_transform(training_set)"
   ]
  },
  {
   "cell_type": "code",
   "execution_count": 139,
   "metadata": {},
   "outputs": [
    {
     "data": {
      "text/plain": [
       "(6854, 1)"
      ]
     },
     "execution_count": 139,
     "metadata": {},
     "output_type": "execute_result"
    }
   ],
   "source": [
    "training_set_scaled.shape"
   ]
  },
  {
   "cell_type": "code",
   "execution_count": 146,
   "metadata": {},
   "outputs": [],
   "source": [
    "# 创建序列数据集（训练和测试）\n",
    "# 30 个时间步为一个样本，1个输出\n",
    "x_train = []\n",
    "y_train = []\n",
    "for i in range(30,6854):\n",
    "    x_train.append(training_set_scaled[i-30:i])\n",
    "    y_train.append(training_set_scaled[i,0])\n",
    "x_train,y_train = np.array(x_train),np.array(y_train)\n"
   ]
  },
  {
   "cell_type": "code",
   "execution_count": 143,
   "metadata": {},
   "outputs": [
    {
     "data": {
      "text/plain": [
       "(30, 1)"
      ]
     },
     "execution_count": 143,
     "metadata": {},
     "output_type": "execute_result"
    }
   ],
   "source": [
    "x_train[0].shape"
   ]
  },
  {
   "cell_type": "code",
   "execution_count": 128,
   "metadata": {},
   "outputs": [
    {
     "data": {
      "text/plain": [
       "array([[[0.0079096 ],\n",
       "        [0.0079096 ],\n",
       "        [0.0079096 ],\n",
       "        ...,\n",
       "        [0.01129944],\n",
       "        [0.01129944],\n",
       "        [0.01129944]],\n",
       "\n",
       "       [[0.0079096 ],\n",
       "        [0.0079096 ],\n",
       "        [0.0079096 ],\n",
       "        ...,\n",
       "        [0.01129944],\n",
       "        [0.01129944],\n",
       "        [0.01129944]],\n",
       "\n",
       "       [[0.0079096 ],\n",
       "        [0.0079096 ],\n",
       "        [0.0079096 ],\n",
       "        ...,\n",
       "        [0.01129944],\n",
       "        [0.01129944],\n",
       "        [0.01129944]],\n",
       "\n",
       "       ...,\n",
       "\n",
       "       [[0.95028249],\n",
       "        [0.95649718],\n",
       "        [0.95423729],\n",
       "        ...,\n",
       "        [0.95367232],\n",
       "        [0.9480226 ],\n",
       "        [0.95762712]],\n",
       "\n",
       "       [[0.95649718],\n",
       "        [0.95423729],\n",
       "        [0.92259887],\n",
       "        ...,\n",
       "        [0.9480226 ],\n",
       "        [0.95762712],\n",
       "        [0.96666667]],\n",
       "\n",
       "       [[0.95423729],\n",
       "        [0.92259887],\n",
       "        [0.92316384],\n",
       "        ...,\n",
       "        [0.95762712],\n",
       "        [0.96666667],\n",
       "        [0.96327684]]])"
      ]
     },
     "execution_count": 128,
     "metadata": {},
     "output_type": "execute_result"
    }
   ],
   "source": [
    "x_train"
   ]
  },
  {
   "cell_type": "code",
   "execution_count": 23,
   "metadata": {},
   "outputs": [],
   "source": [
    "# LSTM的输入：（samples，sequence_length,features)\n",
    "# reshape:训练集（3711,30）-->（3711,30,1）\n",
    "x_train = np.reshape(x_train,(x_train.shape[0],x_train.shape[1],1))"
   ]
  },
  {
   "cell_type": "code",
   "execution_count": 149,
   "metadata": {},
   "outputs": [
    {
     "data": {
      "text/plain": [
       "(6824,)"
      ]
     },
     "execution_count": 149,
     "metadata": {},
     "output_type": "execute_result"
    }
   ],
   "source": [
    "y_train.shape"
   ]
  },
  {
   "cell_type": "markdown",
   "metadata": {},
   "source": [
    "## 搭建LSTM模型，进行训练和预测"
   ]
  },
  {
   "cell_type": "code",
   "execution_count": 107,
   "metadata": {},
   "outputs": [],
   "source": [
    "from keras.layers import ConvLSTM2D\n",
    "model = Sequential()\n",
    "\n",
    "# LSTM 第一层\n",
    "model.add(LSTM(50,return_sequences=True))\n",
    "model.add(Dropout(0.2))\n",
    "\n",
    "# LSTM 第二层\n",
    "model.add(LSTM(50,return_sequences=True))\n",
    "model.add(Dropout(0.2))\n",
    "\n",
    "# LSTM 第三层\n",
    "model.add(LSTM(50))\n",
    "model.add(Dropout(0.2))\n",
    "\n",
    "# Dense层\n",
    "model.add(Dense(units=1))\n",
    "\n"
   ]
  },
  {
   "cell_type": "code",
   "execution_count": 108,
   "metadata": {},
   "outputs": [
    {
     "name": "stdout",
     "output_type": "stream",
     "text": [
      "Epoch 1/10\n"
     ]
    },
    {
     "ename": "ValueError",
     "evalue": "in user code:\n\n    File \"C:\\Users\\12554\\miniconda3\\lib\\site-packages\\keras\\engine\\training.py\", line 1021, in train_function  *\n        return step_function(self, iterator)\n    File \"C:\\Users\\12554\\miniconda3\\lib\\site-packages\\keras\\engine\\training.py\", line 1010, in step_function  **\n        outputs = model.distribute_strategy.run(run_step, args=(data,))\n    File \"C:\\Users\\12554\\miniconda3\\lib\\site-packages\\keras\\engine\\training.py\", line 1000, in run_step  **\n        outputs = model.train_step(data)\n    File \"C:\\Users\\12554\\miniconda3\\lib\\site-packages\\keras\\engine\\training.py\", line 859, in train_step\n        y_pred = self(x, training=True)\n    File \"C:\\Users\\12554\\miniconda3\\lib\\site-packages\\keras\\utils\\traceback_utils.py\", line 67, in error_handler\n        raise e.with_traceback(filtered_tb) from None\n    File \"C:\\Users\\12554\\miniconda3\\lib\\site-packages\\keras\\engine\\input_spec.py\", line 214, in assert_input_compatibility\n        raise ValueError(f'Input {input_index} of layer \"{layer_name}\" '\n\n    ValueError: Exception encountered when calling layer \"sequential_5\" (type Sequential).\n    \n    Input 0 of layer \"conv_lstm2d_4\" is incompatible with the layer: expected ndim=5, found ndim=3. Full shape received: (None, 30, 1)\n    \n    Call arguments received:\n      • inputs=tf.Tensor(shape=(None, 30, 1), dtype=float32)\n      • training=True\n      • mask=None\n",
     "output_type": "error",
     "traceback": [
      "\u001b[1;31m---------------------------------------------------------------------------\u001b[0m",
      "\u001b[1;31mValueError\u001b[0m                                Traceback (most recent call last)",
      "\u001b[1;32m~\\AppData\\Local\\Temp/ipykernel_99604/558880284.py\u001b[0m in \u001b[0;36m<module>\u001b[1;34m\u001b[0m\n\u001b[0;32m      3\u001b[0m \u001b[1;33m\u001b[0m\u001b[0m\n\u001b[0;32m      4\u001b[0m \u001b[1;31m# 模型训练\u001b[0m\u001b[1;33m\u001b[0m\u001b[1;33m\u001b[0m\u001b[1;33m\u001b[0m\u001b[0m\n\u001b[1;32m----> 5\u001b[1;33m \u001b[0mhistory\u001b[0m \u001b[1;33m=\u001b[0m \u001b[0mmodel\u001b[0m\u001b[1;33m.\u001b[0m\u001b[0mfit\u001b[0m\u001b[1;33m(\u001b[0m\u001b[0mx_train\u001b[0m\u001b[1;33m,\u001b[0m\u001b[0my_train\u001b[0m\u001b[1;33m,\u001b[0m\u001b[0mepochs\u001b[0m\u001b[1;33m=\u001b[0m\u001b[1;36m10\u001b[0m\u001b[1;33m,\u001b[0m\u001b[0mbatch_size\u001b[0m\u001b[1;33m=\u001b[0m\u001b[1;36m128\u001b[0m\u001b[1;33m,\u001b[0m\u001b[0mvalidation_split\u001b[0m\u001b[1;33m=\u001b[0m\u001b[1;36m0.2\u001b[0m\u001b[1;33m)\u001b[0m\u001b[1;33m\u001b[0m\u001b[1;33m\u001b[0m\u001b[0m\n\u001b[0m",
      "\u001b[1;32m~\\miniconda3\\lib\\site-packages\\keras\\utils\\traceback_utils.py\u001b[0m in \u001b[0;36merror_handler\u001b[1;34m(*args, **kwargs)\u001b[0m\n\u001b[0;32m     65\u001b[0m     \u001b[1;32mexcept\u001b[0m \u001b[0mException\u001b[0m \u001b[1;32mas\u001b[0m \u001b[0me\u001b[0m\u001b[1;33m:\u001b[0m  \u001b[1;31m# pylint: disable=broad-except\u001b[0m\u001b[1;33m\u001b[0m\u001b[1;33m\u001b[0m\u001b[0m\n\u001b[0;32m     66\u001b[0m       \u001b[0mfiltered_tb\u001b[0m \u001b[1;33m=\u001b[0m \u001b[0m_process_traceback_frames\u001b[0m\u001b[1;33m(\u001b[0m\u001b[0me\u001b[0m\u001b[1;33m.\u001b[0m\u001b[0m__traceback__\u001b[0m\u001b[1;33m)\u001b[0m\u001b[1;33m\u001b[0m\u001b[1;33m\u001b[0m\u001b[0m\n\u001b[1;32m---> 67\u001b[1;33m       \u001b[1;32mraise\u001b[0m \u001b[0me\u001b[0m\u001b[1;33m.\u001b[0m\u001b[0mwith_traceback\u001b[0m\u001b[1;33m(\u001b[0m\u001b[0mfiltered_tb\u001b[0m\u001b[1;33m)\u001b[0m \u001b[1;32mfrom\u001b[0m \u001b[1;32mNone\u001b[0m\u001b[1;33m\u001b[0m\u001b[1;33m\u001b[0m\u001b[0m\n\u001b[0m\u001b[0;32m     68\u001b[0m     \u001b[1;32mfinally\u001b[0m\u001b[1;33m:\u001b[0m\u001b[1;33m\u001b[0m\u001b[1;33m\u001b[0m\u001b[0m\n\u001b[0;32m     69\u001b[0m       \u001b[1;32mdel\u001b[0m \u001b[0mfiltered_tb\u001b[0m\u001b[1;33m\u001b[0m\u001b[1;33m\u001b[0m\u001b[0m\n",
      "\u001b[1;32m~\\miniconda3\\lib\\site-packages\\tensorflow\\python\\framework\\func_graph.py\u001b[0m in \u001b[0;36mautograph_handler\u001b[1;34m(*args, **kwargs)\u001b[0m\n\u001b[0;32m   1145\u001b[0m           \u001b[1;32mexcept\u001b[0m \u001b[0mException\u001b[0m \u001b[1;32mas\u001b[0m \u001b[0me\u001b[0m\u001b[1;33m:\u001b[0m  \u001b[1;31m# pylint:disable=broad-except\u001b[0m\u001b[1;33m\u001b[0m\u001b[1;33m\u001b[0m\u001b[0m\n\u001b[0;32m   1146\u001b[0m             \u001b[1;32mif\u001b[0m \u001b[0mhasattr\u001b[0m\u001b[1;33m(\u001b[0m\u001b[0me\u001b[0m\u001b[1;33m,\u001b[0m \u001b[1;34m\"ag_error_metadata\"\u001b[0m\u001b[1;33m)\u001b[0m\u001b[1;33m:\u001b[0m\u001b[1;33m\u001b[0m\u001b[1;33m\u001b[0m\u001b[0m\n\u001b[1;32m-> 1147\u001b[1;33m               \u001b[1;32mraise\u001b[0m \u001b[0me\u001b[0m\u001b[1;33m.\u001b[0m\u001b[0mag_error_metadata\u001b[0m\u001b[1;33m.\u001b[0m\u001b[0mto_exception\u001b[0m\u001b[1;33m(\u001b[0m\u001b[0me\u001b[0m\u001b[1;33m)\u001b[0m\u001b[1;33m\u001b[0m\u001b[1;33m\u001b[0m\u001b[0m\n\u001b[0m\u001b[0;32m   1148\u001b[0m             \u001b[1;32melse\u001b[0m\u001b[1;33m:\u001b[0m\u001b[1;33m\u001b[0m\u001b[1;33m\u001b[0m\u001b[0m\n\u001b[0;32m   1149\u001b[0m               \u001b[1;32mraise\u001b[0m\u001b[1;33m\u001b[0m\u001b[1;33m\u001b[0m\u001b[0m\n",
      "\u001b[1;31mValueError\u001b[0m: in user code:\n\n    File \"C:\\Users\\12554\\miniconda3\\lib\\site-packages\\keras\\engine\\training.py\", line 1021, in train_function  *\n        return step_function(self, iterator)\n    File \"C:\\Users\\12554\\miniconda3\\lib\\site-packages\\keras\\engine\\training.py\", line 1010, in step_function  **\n        outputs = model.distribute_strategy.run(run_step, args=(data,))\n    File \"C:\\Users\\12554\\miniconda3\\lib\\site-packages\\keras\\engine\\training.py\", line 1000, in run_step  **\n        outputs = model.train_step(data)\n    File \"C:\\Users\\12554\\miniconda3\\lib\\site-packages\\keras\\engine\\training.py\", line 859, in train_step\n        y_pred = self(x, training=True)\n    File \"C:\\Users\\12554\\miniconda3\\lib\\site-packages\\keras\\utils\\traceback_utils.py\", line 67, in error_handler\n        raise e.with_traceback(filtered_tb) from None\n    File \"C:\\Users\\12554\\miniconda3\\lib\\site-packages\\keras\\engine\\input_spec.py\", line 214, in assert_input_compatibility\n        raise ValueError(f'Input {input_index} of layer \"{layer_name}\" '\n\n    ValueError: Exception encountered when calling layer \"sequential_5\" (type Sequential).\n    \n    Input 0 of layer \"conv_lstm2d_4\" is incompatible with the layer: expected ndim=5, found ndim=3. Full shape received: (None, 30, 1)\n    \n    Call arguments received:\n      • inputs=tf.Tensor(shape=(None, 30, 1), dtype=float32)\n      • training=True\n      • mask=None\n"
     ]
    }
   ],
   "source": [
    "# 模型编译\n",
    "model.compile(optimizer='rmsprop',loss='mse',metrics=['accuracy'])\n",
    "\n",
    "# 模型训练\n",
    "history = model.fit(x_train,y_train,epochs=10,batch_size=128,validation_split=0.2)\n"
   ]
  },
  {
   "cell_type": "code",
   "execution_count": 49,
   "metadata": {},
   "outputs": [
    {
     "data": {
      "image/png": "[encoded data removed]",
      "text/plain": [
       "<Figure size 432x288 with 1 Axes>"
      ]
     },
     "metadata": {
      "needs_background": "light"
     },
     "output_type": "display_data"
    },
    {
     "data": {
      "image/png": "[encoded data removed]",
      "text/plain": [
       "<Figure size 432x288 with 1 Axes>"
      ]
     },
     "metadata": {
      "needs_background": "light"
     },
     "output_type": "display_data"
    }
   ],
   "source": [
    "import matplotlib.pyplot as plt\n",
    "\n",
    "acc = history.history['accuracy']\n",
    "val_acc = history.history['val_accuracy']\n",
    "loss = history.history['loss']\n",
    "val_loss = history.history['val_loss']\n",
    "\n",
    "epochs = range(1,len(acc)+1)\n",
    "plt.plot(epochs,acc,'bo',label='Training acc')\n",
    "plt.plot(epochs,val_acc,'b',label='Validation acc')\n",
    "plt.title('Training and validation accuracy')\n",
    "plt.legend()\n",
    "\n",
    "plt.figure()\n",
    "\n",
    "plt.plot(epochs,loss,'bo',label='Training loss')\n",
    "plt.plot(epochs,val_loss,'b',label='Validation loss')\n",
    "plt.title('Training and validation loss')\n",
    "\n",
    "plt.legend()\n",
    "\n",
    "plt.show()"
   ]
  },
  {
   "cell_type": "markdown",
   "metadata": {},
   "source": [
    "## 构建数据集 进行预测"
   ]
  },
  {
   "cell_type": "code",
   "execution_count": 69,
   "metadata": {},
   "outputs": [],
   "source": [
    "dataset_total = pd.concat((df['close'][:date.fromisoformat(\"2020-01-01\")],df['close'][date.fromisoformat(\"2020-01-01\"):]),axis=0)"
   ]
  },
  {
   "cell_type": "code",
   "execution_count": 112,
   "metadata": {},
   "outputs": [
    {
     "data": {
      "text/plain": [
       "date\n",
       "1991-04-03    -0.74\n",
       "1991-04-04    -0.74\n",
       "1991-04-05    -0.74\n",
       "1991-04-06    -0.74\n",
       "1991-04-08    -0.74\n",
       "              ...  \n",
       "2022-04-21    15.81\n",
       "2022-04-22    16.06\n",
       "2022-04-25    14.85\n",
       "2022-04-26    14.73\n",
       "2022-04-27    15.65\n",
       "Name: close, Length: 7415, dtype: float64"
      ]
     },
     "execution_count": 112,
     "metadata": {},
     "output_type": "execute_result"
    }
   ],
   "source": [
    "dataset_total"
   ]
  },
  {
   "cell_type": "code",
   "execution_count": 113,
   "metadata": {},
   "outputs": [
    {
     "data": {
      "text/plain": [
       "array([15.45, 15.46, 15.19, 15.4 , 15.22, 15.07, 15.09, 14.89, 14.96,\n",
       "       15.05, 14.91, 15.03, 15.2 , 15.01, 14.93, 15.26, 15.2 , 15.72,\n",
       "       15.73, 16.1 , 16.06, 16.15, 16.19, 15.84, 16.  , 15.9 , 16.07,\n",
       "       16.23, 16.17, 16.05, 16.47, 16.78, 16.67, 16.75, 16.26, 16.39,\n",
       "       16.29, 16.59, 16.36, 16.12, 15.93, 15.99, 16.05, 15.6 , 15.69,\n",
       "       15.14, 13.59, 14.2 , 14.23, 14.37, 14.22, 14.1 , 14.39, 14.37,\n",
       "       14.25, 14.63, 14.97, 14.8 , 14.84, 15.19, 15.18, 14.83, 14.64,\n",
       "       14.59, 14.71, 14.1 , 14.39, 14.32, 14.29, 14.99, 14.63, 14.05,\n",
       "       14.36, 14.29, 14.28, 14.12, 13.35, 13.01, 12.31, 11.83, 12.12,\n",
       "       11.75, 12.21, 12.47, 12.66, 12.75, 12.54, 12.4 , 12.49, 12.57,\n",
       "       12.21, 12.48, 12.38, 12.34, 12.39, 12.19, 12.46, 12.47, 12.28,\n",
       "       12.49, 12.59, 13.05, 12.83, 12.83, 12.84, 13.1 , 13.12, 13.62,\n",
       "       13.53, 13.37, 13.29, 13.55, 13.6 , 13.39, 13.23, 12.9 , 12.83,\n",
       "       12.8 , 12.96, 13.11, 13.  , 12.52, 12.56, 12.64, 12.6 , 12.89,\n",
       "       12.82, 13.14, 13.37, 13.36, 13.39, 13.41, 13.44, 13.49, 13.31,\n",
       "       12.9 , 12.81, 12.64, 12.71, 12.67, 12.58, 12.62, 12.46, 12.42,\n",
       "       12.62, 12.62, 12.62, 12.94, 13.25, 14.07, 15.5 , 15.3 , 15.58,\n",
       "       15.35, 14.68, 14.71, 14.5 , 14.09, 13.97, 13.96, 14.55, 14.31,\n",
       "       14.23, 13.83, 13.32, 13.06, 13.16, 13.36, 13.19, 13.16, 13.41,\n",
       "       13.86, 13.58, 13.72, 13.52, 13.77, 13.95, 14.2 , 14.  , 14.29,\n",
       "       15.01, 14.97, 14.92, 14.41, 14.27, 14.28, 14.42, 14.19, 14.28,\n",
       "       14.95, 14.9 , 14.96, 15.14, 14.72, 14.78, 14.76, 15.25, 15.03,\n",
       "       15.16, 14.83, 15.12, 15.17, 15.26, 15.39, 15.89, 15.68, 15.39,\n",
       "       15.45, 14.94, 15.01, 15.13, 14.62, 14.99, 15.  , 15.72, 15.88,\n",
       "       15.85, 16.38, 16.92, 17.3 , 17.36, 17.73, 17.38, 17.95, 17.52,\n",
       "       17.58, 17.45, 17.59, 17.57, 17.45, 17.78, 18.14, 17.52, 17.46,\n",
       "       17.66, 17.93, 17.63, 17.48, 17.  , 17.19, 17.65, 18.28, 18.67,\n",
       "       18.68, 19.44, 19.18, 18.88, 19.32, 19.52, 19.56, 19.87, 19.45,\n",
       "       19.36, 19.12, 18.73, 18.53, 18.53, 18.47, 18.34, 18.7 , 18.56,\n",
       "       18.83, 18.77, 18.18, 18.1 , 17.72, 17.82, 18.08, 17.86, 18.67,\n",
       "       18.99, 19.02, 19.16, 18.42, 17.99, 19.38, 19.72, 19.67, 20.2 ,\n",
       "       20.82, 20.52, 19.99, 20.82, 22.52, 22.16, 22.29, 22.05, 21.85,\n",
       "       22.31, 22.19, 22.9 , 22.63, 22.91, 24.37, 23.1 , 24.77, 24.42,\n",
       "       24.75, 24.62, 24.4 , 23.64, 24.12, 23.67, 22.2 , 21.75, 21.98,\n",
       "       21.91, 21.2 , 21.27, 21.47, 22.83, 22.74, 22.16, 21.42, 20.67,\n",
       "       20.22, 21.09, 21.3 , 21.42, 21.48, 21.02, 21.55, 20.29, 21.37,\n",
       "       21.05, 20.35, 20.57, 20.96, 21.31, 21.75, 21.83, 21.6 , 21.32,\n",
       "       21.5 , 21.46, 21.38, 21.12, 20.52, 20.6 , 20.49, 20.18, 20.08,\n",
       "       20.97, 21.51, 22.83, 22.8 , 23.11, 22.76, 22.76, 23.17, 23.41,\n",
       "       23.11, 23.32, 23.87, 23.68, 23.35, 23.37, 22.89, 23.32, 23.6 ,\n",
       "       23.9 , 23.6 , 23.82, 23.49, 23.48, 24.6 , 25.01, 24.79, 24.5 ,\n",
       "       24.2 , 23.92, 23.89, 23.77, 24.54, 24.3 , 24.53, 24.65, 24.2 ,\n",
       "       23.37, 23.22, 23.26, 23.1 , 22.65, 22.16, 22.97, 23.14, 23.08,\n",
       "       23.36, 22.78, 22.34, 22.62, 23.2 , 21.81, 22.06, 22.78, 22.55,\n",
       "       21.51, 21.27, 21.16, 21.12, 20.76, 21.62, 21.34, 21.21, 20.6 ,\n",
       "       20.45, 20.38, 20.1 , 18.8 , 17.76, 17.75, 17.96, 17.69, 18.01,\n",
       "       17.89, 17.81, 17.68, 17.86, 19.06, 19.73, 19.81, 19.89, 19.89,\n",
       "       19.95, 19.67, 20.62, 20.34, 19.42, 19.3 , 19.36, 19.16, 18.46,\n",
       "       18.39, 17.72, 17.8 , 17.88, 18.4 , 18.04, 18.45, 19.24, 19.23,\n",
       "       19.  , 20.57, 20.21, 19.37, 19.52, 19.08, 18.53, 17.98, 17.68,\n",
       "       17.35, 17.57, 17.97, 18.15, 17.93, 18.64, 19.4 , 19.35, 19.58,\n",
       "       19.21, 19.66, 19.29, 19.57, 19.24, 20.  , 20.04, 20.12, 20.05,\n",
       "       19.92, 19.72, 19.5 , 19.39, 18.18, 18.03, 17.87, 17.64, 17.42,\n",
       "       17.53, 17.4 , 18.35, 18.27, 18.43, 18.22, 18.11, 17.8 , 18.15,\n",
       "       18.12, 17.88, 17.87, 17.68, 17.58, 17.51, 17.44, 17.64, 17.59,\n",
       "       17.65, 18.1 , 18.46, 18.47, 18.7 , 18.38, 18.27, 17.58, 17.55,\n",
       "       17.72, 17.57, 17.52, 17.59, 17.39, 17.32, 17.31, 17.22, 17.17,\n",
       "       16.75, 16.82, 16.48, 16.66, 17.15, 17.12, 17.2 , 17.19, 17.41,\n",
       "       17.  , 16.98, 16.33, 16.22, 16.52, 16.5 , 17.33, 17.35, 17.2 ,\n",
       "       16.85, 16.65, 16.3 , 15.83, 16.39, 16.83, 16.86, 16.99, 17.1 ,\n",
       "       16.58, 16.28, 16.41, 16.42, 16.77, 16.51, 16.23, 16.19, 15.91,\n",
       "       15.9 , 15.75, 15.92, 15.68, 15.71, 15.33, 14.72, 14.31, 13.84,\n",
       "       14.57, 14.9 , 14.49, 13.68, 14.31, 14.45, 14.7 , 14.59, 15.18,\n",
       "       15.  , 15.2 , 14.98, 14.85, 14.68, 15.21, 15.38, 15.75, 16.39,\n",
       "       16.28, 16.4 , 16.05, 15.92, 15.8 , 16.04, 16.42, 15.9 , 15.81,\n",
       "       15.85, 15.81, 16.06, 14.85, 14.73, 15.65])"
      ]
     },
     "execution_count": 113,
     "metadata": {},
     "output_type": "execute_result"
    }
   ],
   "source": [
    "# 获取输入数据\n",
    "inputs = dataset_total[len(dataset_total) - 561 - 30:].values\n",
    "inputs\n"
   ]
  },
  {
   "cell_type": "code",
   "execution_count": 115,
   "metadata": {},
   "outputs": [
    {
     "name": "stderr",
     "output_type": "stream",
     "text": [
      "C:\\Users\\12554\\miniconda3\\lib\\site-packages\\sklearn\\base.py:450: UserWarning: X does not have valid feature names, but MinMaxScaler was fitted with feature names\n",
      "  warnings.warn(\n"
     ]
    }
   ],
   "source": [
    "# 归一化\n",
    "inputs = inputs.reshape(-1,1)\n",
    "inputs = sc.transform(inputs)"
   ]
  },
  {
   "cell_type": "code",
   "execution_count": 117,
   "metadata": {},
   "outputs": [
    {
     "data": {
      "text/plain": [
       "array([0.92259887, 0.92316384, 0.9079096 , 0.91977401, 0.90960452])"
      ]
     },
     "execution_count": 117,
     "metadata": {},
     "output_type": "execute_result"
    }
   ],
   "source": [
    "inputs[0:5,0]"
   ]
  },
  {
   "cell_type": "code",
   "execution_count": 84,
   "metadata": {},
   "outputs": [
    {
     "data": {
      "text/plain": [
       "(561, 30)"
      ]
     },
     "execution_count": 84,
     "metadata": {},
     "output_type": "execute_result"
    }
   ],
   "source": [
    "# 准备测试集x_test,进行股价预测\n",
    "x_test = []\n",
    "for i in range(30,591):\n",
    "    x_test.append(inputs[i-30:i,0])\n",
    "x_test = np.array(x_test) #numpy类型转换\n",
    "x_test.shape"
   ]
  },
  {
   "cell_type": "code",
   "execution_count": 87,
   "metadata": {},
   "outputs": [],
   "source": [
    "x_test = np.reshape(x_test,(x_test.shape[0],x_test.shape[1],1))"
   ]
  },
  {
   "cell_type": "code",
   "execution_count": 88,
   "metadata": {},
   "outputs": [
    {
     "data": {
      "text/plain": [
       "(561, 30, 1)"
      ]
     },
     "execution_count": 88,
     "metadata": {},
     "output_type": "execute_result"
    }
   ],
   "source": [
    "x_test.shape"
   ]
  },
  {
   "cell_type": "code",
   "execution_count": 90,
   "metadata": {},
   "outputs": [],
   "source": [
    "predict_test = model.predict(x_test)\n",
    "#p2 = model.predict()\n"
   ]
  },
  {
   "cell_type": "code",
   "execution_count": 91,
   "metadata": {},
   "outputs": [],
   "source": [
    "predict_stock_price = sc.inverse_transform(predict_test)"
   ]
  },
  {
   "cell_type": "code",
   "execution_count": 41,
   "metadata": {},
   "outputs": [],
   "source": [
    "p2_price = sc.inverse_transform(p2)\n",
    "p2_price = pd.DataFrame(p2_price)\n",
    "p2_price.index = test_set.index"
   ]
  },
  {
   "cell_type": "code",
   "execution_count": 92,
   "metadata": {},
   "outputs": [],
   "source": [
    "predict_stock_price = pd.DataFrame(predict_stock_price)"
   ]
  },
  {
   "cell_type": "code",
   "execution_count": 93,
   "metadata": {},
   "outputs": [],
   "source": [
    "predict_stock_price.index = test_set.index"
   ]
  },
  {
   "cell_type": "code",
   "execution_count": 94,
   "metadata": {},
   "outputs": [
    {
     "data": {
      "text/html": [
       "<div>\n",
       "<style scoped>\n",
       "    .dataframe tbody tr th:only-of-type {\n",
       "        vertical-align: middle;\n",
       "    }\n",
       "\n",
       "    .dataframe tbody tr th {\n",
       "        vertical-align: top;\n",
       "    }\n",
       "\n",
       "    .dataframe thead th {\n",
       "        text-align: right;\n",
       "    }\n",
       "</style>\n",
       "<table border=\"1\" class=\"dataframe\">\n",
       "  <thead>\n",
       "    <tr style=\"text-align: right;\">\n",
       "      <th></th>\n",
       "      <th>0</th>\n",
       "    </tr>\n",
       "    <tr>\n",
       "      <th>date</th>\n",
       "      <th></th>\n",
       "    </tr>\n",
       "  </thead>\n",
       "  <tbody>\n",
       "    <tr>\n",
       "      <th>2020-01-02</th>\n",
       "      <td>15.916824</td>\n",
       "    </tr>\n",
       "    <tr>\n",
       "      <th>2020-01-03</th>\n",
       "      <td>16.394468</td>\n",
       "    </tr>\n",
       "    <tr>\n",
       "      <th>2020-01-06</th>\n",
       "      <td>16.702293</td>\n",
       "    </tr>\n",
       "    <tr>\n",
       "      <th>2020-01-07</th>\n",
       "      <td>16.421135</td>\n",
       "    </tr>\n",
       "    <tr>\n",
       "      <th>2020-01-08</th>\n",
       "      <td>16.431410</td>\n",
       "    </tr>\n",
       "    <tr>\n",
       "      <th>...</th>\n",
       "      <td>...</td>\n",
       "    </tr>\n",
       "    <tr>\n",
       "      <th>2022-04-21</th>\n",
       "      <td>15.845489</td>\n",
       "    </tr>\n",
       "    <tr>\n",
       "      <th>2022-04-22</th>\n",
       "      <td>15.894522</td>\n",
       "    </tr>\n",
       "    <tr>\n",
       "      <th>2022-04-25</th>\n",
       "      <td>16.123053</td>\n",
       "    </tr>\n",
       "    <tr>\n",
       "      <th>2022-04-26</th>\n",
       "      <td>14.853379</td>\n",
       "    </tr>\n",
       "    <tr>\n",
       "      <th>2022-04-27</th>\n",
       "      <td>14.794195</td>\n",
       "    </tr>\n",
       "  </tbody>\n",
       "</table>\n",
       "<p>561 rows × 1 columns</p>\n",
       "</div>"
      ],
      "text/plain": [
       "                    0\n",
       "date                 \n",
       "2020-01-02  15.916824\n",
       "2020-01-03  16.394468\n",
       "2020-01-06  16.702293\n",
       "2020-01-07  16.421135\n",
       "2020-01-08  16.431410\n",
       "...               ...\n",
       "2022-04-21  15.845489\n",
       "2022-04-22  15.894522\n",
       "2022-04-25  16.123053\n",
       "2022-04-26  14.853379\n",
       "2022-04-27  14.794195\n",
       "\n",
       "[561 rows x 1 columns]"
      ]
     },
     "execution_count": 94,
     "metadata": {},
     "output_type": "execute_result"
    }
   ],
   "source": [
    "predict_stock_price"
   ]
  },
  {
   "cell_type": "code",
   "execution_count": 97,
   "metadata": {},
   "outputs": [
    {
     "data": {
      "image/png": "[encoded data removed]",
      "text/plain": [
       "<Figure size 432x288 with 1 Axes>"
      ]
     },
     "metadata": {
      "needs_background": "light"
     },
     "output_type": "display_data"
    }
   ],
   "source": [
    "# 绘制测试结果和预测结果是否相符合\n",
    "plot_predictions(test_set,predict_stock_price,\"PIAN bank\")"
   ]
  },
  {
   "cell_type": "code",
   "execution_count": 98,
   "metadata": {},
   "outputs": [],
   "source": [
    "model.save('D:\\\\000001.XSHG.h5')"
   ]
  },
  {
   "cell_type": "code",
   "execution_count": 100,
   "metadata": {},
   "outputs": [],
   "source": [
    "from keras.models import load_model\n",
    "m2 = load_model('D:\\\\000001.XSHG.h5')"
   ]
  },
  {
   "cell_type": "code",
   "execution_count": null,
   "metadata": {},
   "outputs": [],
   "source": []
  }
 ],
 "metadata": {
  "interpreter": {
   "hash": "487ee40a914d713106d7c7f5fa4b00442e508e6b917ea9f88eac1afae450fee7"
  },
  "kernelspec": {
   "display_name": "Python 3.9.5 ('base')",
   "language": "python",
   "name": "python3"
  },
  "language_info": {
   "codemirror_mode": {
    "name": "ipython",
    "version": 3
   },
   "file_extension": ".py",
   "mimetype": "text/x-python",
   "name": "python",
   "nbconvert_exporter": "python",
   "pygments_lexer": "ipython3",
   "version": "3.9.5"
  },
  "orig_nbformat": 4
 },
 "nbformat": 4,
 "nbformat_minor": 2
}
