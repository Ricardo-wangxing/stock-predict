{
 "cells": [
  {
   "cell_type": "code",
   "execution_count": 1,
   "metadata": {},
   "outputs": [
    {
     "name": "stdout",
     "output_type": "stream",
     "text": [
      "auth success \n"
     ]
    }
   ],
   "source": [
    "import jqdatasdk as jq\n",
    "jq.auth('13848214153','4157399AABBcc!')"
   ]
  },
  {
   "cell_type": "code",
   "execution_count": 18,
   "metadata": {},
   "outputs": [
    {
     "name": "stdout",
     "output_type": "stream",
     "text": [
      "-1\n"
     ]
    }
   ],
   "source": [
    "from datetime import date\n",
    "s = date.fromisoformat('2022-04-30')\n",
    "e = date.fromisoformat('2022-05-02')\n",
    "a = jq.get_trade_days(start_date=s,end_date=e)\n",
    "print(a.size - 1)"
   ]
  },
  {
   "cell_type": "code",
   "execution_count": 20,
   "metadata": {},
   "outputs": [
    {
     "data": {
      "text/plain": [
       "datetime.date(2022, 5, 2)"
      ]
     },
     "execution_count": 20,
     "metadata": {},
     "output_type": "execute_result"
    }
   ],
   "source": [
    "e"
   ]
  },
  {
   "cell_type": "code",
   "execution_count": null,
   "metadata": {},
   "outputs": [],
   "source": [
    "jq.get_trade_days(start_date='2022-01-01', end_date='2022-04-29')"
   ]
  },
  {
   "cell_type": "code",
   "execution_count": 18,
   "metadata": {},
   "outputs": [
    {
     "data": {
      "text/plain": [
       "4693"
      ]
     },
     "execution_count": 18,
     "metadata": {},
     "output_type": "execute_result"
    }
   ],
   "source": [
    "len(jq.get_all_trade_days())"
   ]
  },
  {
   "cell_type": "code",
   "execution_count": 20,
   "metadata": {},
   "outputs": [],
   "source": [
    "import rqdatac as rq"
   ]
  },
  {
   "cell_type": "code",
   "execution_count": null,
   "metadata": {},
   "outputs": [],
   "source": [
    "rq.init()"
   ]
  },
  {
   "cell_type": "code",
   "execution_count": 4,
   "metadata": {},
   "outputs": [],
   "source": [
    "import time\n",
    "from datetime import datetime,timedelta\n",
    "def get_fundamentals_info(stock):\n",
    "    q = jq.query(jq.valuation.turnover_ratio,\n",
    "                jq.valuation.market_cap,\n",
    "                jq.indicator.eps\n",
    "                ).filter(jq.valuation.code.in_([stock]))\n",
    "    current_dt = time.strftime(\"%Y-%m-%d\", time.localtime())\n",
    "    current_dt = datetime.strptime(current_dt, '%Y-%m-%d')\n",
    "    previous_date  = current_dt - timedelta(days = 1)\n",
    "    df = jq.get_fundamentals_continuously(q, end_date = previous_date, count = 5, panel = False)\n",
    "    print(df)"
   ]
  },
  {
   "cell_type": "code",
   "execution_count": 5,
   "metadata": {},
   "outputs": [
    {
     "name": "stdout",
     "output_type": "stream",
     "text": [
      "          day         code  turnover_ratio  market_cap     eps\n",
      "0  2022-04-22  600989.XSHG          0.9998   1044.2705  0.2381\n",
      "1  2022-04-25  600989.XSHG          2.3330    947.4701  0.2381\n",
      "2  2022-04-26  600989.XSHG          2.0911    891.7366  0.2381\n",
      "3  2022-04-27  600989.XSHG          2.8844    981.2036  0.2381\n",
      "4  2022-04-28  600989.XSHG          2.1139    992.9369  0.2381\n"
     ]
    }
   ],
   "source": [
    "get_fundamentals_info('600989.XSHG')"
   ]
  },
  {
   "cell_type": "code",
   "execution_count": 6,
   "metadata": {},
   "outputs": [
    {
     "name": "stderr",
     "output_type": "stream",
     "text": [
      "UsageError: %%time is a cell magic, but the cell body is empty. Did you mean the line magic %time (single %)?\n"
     ]
    }
   ],
   "source": [
    "%%time"
   ]
  },
  {
   "cell_type": "code",
   "execution_count": 7,
   "metadata": {},
   "outputs": [
    {
     "name": "stdout",
     "output_type": "stream",
     "text": [
      "          day         code  turnover_ratio  market_cap     eps\n",
      "0  2022-04-22  600989.XSHG          0.9998   1044.2705  0.2381\n",
      "1  2022-04-25  600989.XSHG          2.3330    947.4701  0.2381\n",
      "2  2022-04-26  600989.XSHG          2.0911    891.7366  0.2381\n",
      "3  2022-04-27  600989.XSHG          2.8844    981.2036  0.2381\n",
      "4  2022-04-28  600989.XSHG          2.1139    992.9369  0.2381\n"
     ]
    }
   ],
   "source": [
    "get_fundamentals_info('600989.XSHG')"
   ]
  },
  {
   "cell_type": "code",
   "execution_count": 10,
   "metadata": {},
   "outputs": [],
   "source": [
    "import numpy as np\n",
    "a = np.log(np.array([1,2]))"
   ]
  },
  {
   "cell_type": "code",
   "execution_count": 11,
   "metadata": {},
   "outputs": [
    {
     "data": {
      "text/plain": [
       "array([0.        , 0.69314718])"
      ]
     },
     "execution_count": 11,
     "metadata": {},
     "output_type": "execute_result"
    }
   ],
   "source": [
    "a"
   ]
  },
  {
   "cell_type": "code",
   "execution_count": 37,
   "metadata": {},
   "outputs": [],
   "source": [
    "from stock_spider.spider import stock_histroy_info"
   ]
  },
  {
   "cell_type": "code",
   "execution_count": 38,
   "metadata": {},
   "outputs": [],
   "source": [
    "current_dt = time.strftime(\"%Y-%m-%d\", time.localtime())\n",
    "current_dt = datetime.strptime(current_dt, '%Y-%m-%d')\n",
    "previous_date  = current_dt - timedelta(days = 1)\n",
    "previous_date = datetime.strftime(previous_date,\"%Y-%m-%d\")\n",
    "data = stock_histroy_info('0.159915',str(previous_date.replace('-','')),limit=30)['klines']"
   ]
  },
  {
   "cell_type": "code",
   "execution_count": 39,
   "metadata": {},
   "outputs": [],
   "source": [
    "result = []\n",
    "for d in data:\n",
    "    result.append(tuple(d.split(',')))"
   ]
  },
  {
   "cell_type": "code",
   "execution_count": 40,
   "metadata": {},
   "outputs": [],
   "source": [
    "import pandas as pd\n",
    "#result.insert(0,('date','open','close','high','low'))\n",
    "df = pd.DataFrame(result)\n",
    "df.rename(columns={0:'date',1:'open',2:'close',3:'high',4:'low'},inplace=True)\n",
    "df = df.set_index('date')"
   ]
  },
  {
   "cell_type": "code",
   "execution_count": 41,
   "metadata": {},
   "outputs": [],
   "source": [
    "df = df[1:].astype('float32')\n"
   ]
  },
  {
   "cell_type": "code",
   "execution_count": 42,
   "metadata": {},
   "outputs": [
    {
     "data": {
      "text/html": [
       "<div>\n",
       "<style scoped>\n",
       "    .dataframe tbody tr th:only-of-type {\n",
       "        vertical-align: middle;\n",
       "    }\n",
       "\n",
       "    .dataframe tbody tr th {\n",
       "        vertical-align: top;\n",
       "    }\n",
       "\n",
       "    .dataframe thead th {\n",
       "        text-align: right;\n",
       "    }\n",
       "</style>\n",
       "<table border=\"1\" class=\"dataframe\">\n",
       "  <thead>\n",
       "    <tr style=\"text-align: right;\">\n",
       "      <th></th>\n",
       "      <th>open</th>\n",
       "      <th>close</th>\n",
       "      <th>high</th>\n",
       "      <th>low</th>\n",
       "      <th>5</th>\n",
       "      <th>6</th>\n",
       "    </tr>\n",
       "    <tr>\n",
       "      <th>date</th>\n",
       "      <th></th>\n",
       "      <th></th>\n",
       "      <th></th>\n",
       "      <th></th>\n",
       "      <th></th>\n",
       "      <th></th>\n",
       "    </tr>\n",
       "  </thead>\n",
       "  <tbody>\n",
       "    <tr>\n",
       "      <th>2022-03-21</th>\n",
       "      <td>2.639</td>\n",
       "      <td>2.636</td>\n",
       "      <td>2.666</td>\n",
       "      <td>2.614</td>\n",
       "      <td>4590040.0</td>\n",
       "      <td>1.212819e+09</td>\n",
       "    </tr>\n",
       "    <tr>\n",
       "      <th>2022-03-22</th>\n",
       "      <td>2.623</td>\n",
       "      <td>2.602</td>\n",
       "      <td>2.626</td>\n",
       "      <td>2.589</td>\n",
       "      <td>3043426.0</td>\n",
       "      <td>7.928708e+08</td>\n",
       "    </tr>\n",
       "    <tr>\n",
       "      <th>2022-03-23</th>\n",
       "      <td>2.619</td>\n",
       "      <td>2.629</td>\n",
       "      <td>2.639</td>\n",
       "      <td>2.597</td>\n",
       "      <td>3441752.0</td>\n",
       "      <td>9.022776e+08</td>\n",
       "    </tr>\n",
       "    <tr>\n",
       "      <th>2022-03-24</th>\n",
       "      <td>2.605</td>\n",
       "      <td>2.620</td>\n",
       "      <td>2.638</td>\n",
       "      <td>2.571</td>\n",
       "      <td>4342960.0</td>\n",
       "      <td>1.128841e+09</td>\n",
       "    </tr>\n",
       "    <tr>\n",
       "      <th>2022-03-25</th>\n",
       "      <td>2.612</td>\n",
       "      <td>2.565</td>\n",
       "      <td>2.627</td>\n",
       "      <td>2.559</td>\n",
       "      <td>5088554.0</td>\n",
       "      <td>1.313442e+09</td>\n",
       "    </tr>\n",
       "    <tr>\n",
       "      <th>2022-03-28</th>\n",
       "      <td>2.540</td>\n",
       "      <td>2.512</td>\n",
       "      <td>2.545</td>\n",
       "      <td>2.494</td>\n",
       "      <td>5459154.0</td>\n",
       "      <td>1.374742e+09</td>\n",
       "    </tr>\n",
       "    <tr>\n",
       "      <th>2022-03-29</th>\n",
       "      <td>2.517</td>\n",
       "      <td>2.511</td>\n",
       "      <td>2.548</td>\n",
       "      <td>2.499</td>\n",
       "      <td>4138832.0</td>\n",
       "      <td>1.044201e+09</td>\n",
       "    </tr>\n",
       "    <tr>\n",
       "      <th>2022-03-30</th>\n",
       "      <td>2.527</td>\n",
       "      <td>2.610</td>\n",
       "      <td>2.610</td>\n",
       "      <td>2.524</td>\n",
       "      <td>5443448.0</td>\n",
       "      <td>1.401462e+09</td>\n",
       "    </tr>\n",
       "    <tr>\n",
       "      <th>2022-03-31</th>\n",
       "      <td>2.595</td>\n",
       "      <td>2.574</td>\n",
       "      <td>2.600</td>\n",
       "      <td>2.563</td>\n",
       "      <td>3904354.0</td>\n",
       "      <td>1.006760e+09</td>\n",
       "    </tr>\n",
       "    <tr>\n",
       "      <th>2022-04-01</th>\n",
       "      <td>2.550</td>\n",
       "      <td>2.580</td>\n",
       "      <td>2.599</td>\n",
       "      <td>2.548</td>\n",
       "      <td>4210102.0</td>\n",
       "      <td>1.086474e+09</td>\n",
       "    </tr>\n",
       "    <tr>\n",
       "      <th>2022-04-06</th>\n",
       "      <td>2.566</td>\n",
       "      <td>2.550</td>\n",
       "      <td>2.577</td>\n",
       "      <td>2.533</td>\n",
       "      <td>3535043.0</td>\n",
       "      <td>9.004870e+08</td>\n",
       "    </tr>\n",
       "    <tr>\n",
       "      <th>2022-04-07</th>\n",
       "      <td>2.535</td>\n",
       "      <td>2.496</td>\n",
       "      <td>2.547</td>\n",
       "      <td>2.495</td>\n",
       "      <td>4428186.0</td>\n",
       "      <td>1.112917e+09</td>\n",
       "    </tr>\n",
       "    <tr>\n",
       "      <th>2022-04-08</th>\n",
       "      <td>2.496</td>\n",
       "      <td>2.491</td>\n",
       "      <td>2.525</td>\n",
       "      <td>2.467</td>\n",
       "      <td>3466390.0</td>\n",
       "      <td>8.641130e+08</td>\n",
       "    </tr>\n",
       "    <tr>\n",
       "      <th>2022-04-11</th>\n",
       "      <td>2.460</td>\n",
       "      <td>2.386</td>\n",
       "      <td>2.465</td>\n",
       "      <td>2.378</td>\n",
       "      <td>6050103.0</td>\n",
       "      <td>1.456177e+09</td>\n",
       "    </tr>\n",
       "    <tr>\n",
       "      <th>2022-04-12</th>\n",
       "      <td>2.386</td>\n",
       "      <td>2.440</td>\n",
       "      <td>2.442</td>\n",
       "      <td>2.381</td>\n",
       "      <td>4713928.0</td>\n",
       "      <td>1.136473e+09</td>\n",
       "    </tr>\n",
       "    <tr>\n",
       "      <th>2022-04-13</th>\n",
       "      <td>2.418</td>\n",
       "      <td>2.394</td>\n",
       "      <td>2.433</td>\n",
       "      <td>2.391</td>\n",
       "      <td>4781737.0</td>\n",
       "      <td>1.152802e+09</td>\n",
       "    </tr>\n",
       "    <tr>\n",
       "      <th>2022-04-14</th>\n",
       "      <td>2.420</td>\n",
       "      <td>2.389</td>\n",
       "      <td>2.430</td>\n",
       "      <td>2.365</td>\n",
       "      <td>7573057.0</td>\n",
       "      <td>1.810301e+09</td>\n",
       "    </tr>\n",
       "    <tr>\n",
       "      <th>2022-04-15</th>\n",
       "      <td>2.360</td>\n",
       "      <td>2.385</td>\n",
       "      <td>2.406</td>\n",
       "      <td>2.339</td>\n",
       "      <td>5226941.0</td>\n",
       "      <td>1.238914e+09</td>\n",
       "    </tr>\n",
       "    <tr>\n",
       "      <th>2022-04-18</th>\n",
       "      <td>2.361</td>\n",
       "      <td>2.412</td>\n",
       "      <td>2.413</td>\n",
       "      <td>2.335</td>\n",
       "      <td>5381764.0</td>\n",
       "      <td>1.280921e+09</td>\n",
       "    </tr>\n",
       "    <tr>\n",
       "      <th>2022-04-19</th>\n",
       "      <td>2.398</td>\n",
       "      <td>2.377</td>\n",
       "      <td>2.430</td>\n",
       "      <td>2.368</td>\n",
       "      <td>4388862.0</td>\n",
       "      <td>1.049973e+09</td>\n",
       "    </tr>\n",
       "    <tr>\n",
       "      <th>2022-04-20</th>\n",
       "      <td>2.376</td>\n",
       "      <td>2.288</td>\n",
       "      <td>2.376</td>\n",
       "      <td>2.284</td>\n",
       "      <td>8180802.0</td>\n",
       "      <td>1.899263e+09</td>\n",
       "    </tr>\n",
       "    <tr>\n",
       "      <th>2022-04-21</th>\n",
       "      <td>2.270</td>\n",
       "      <td>2.240</td>\n",
       "      <td>2.304</td>\n",
       "      <td>2.227</td>\n",
       "      <td>6554452.0</td>\n",
       "      <td>1.485233e+09</td>\n",
       "    </tr>\n",
       "    <tr>\n",
       "      <th>2022-04-22</th>\n",
       "      <td>2.221</td>\n",
       "      <td>2.225</td>\n",
       "      <td>2.252</td>\n",
       "      <td>2.207</td>\n",
       "      <td>5942086.0</td>\n",
       "      <td>1.324393e+09</td>\n",
       "    </tr>\n",
       "    <tr>\n",
       "      <th>2022-04-25</th>\n",
       "      <td>2.177</td>\n",
       "      <td>2.103</td>\n",
       "      <td>2.192</td>\n",
       "      <td>2.103</td>\n",
       "      <td>10441595.0</td>\n",
       "      <td>2.241222e+09</td>\n",
       "    </tr>\n",
       "    <tr>\n",
       "      <th>2022-04-26</th>\n",
       "      <td>2.103</td>\n",
       "      <td>2.086</td>\n",
       "      <td>2.150</td>\n",
       "      <td>2.083</td>\n",
       "      <td>10201517.0</td>\n",
       "      <td>2.151858e+09</td>\n",
       "    </tr>\n",
       "    <tr>\n",
       "      <th>2022-04-27</th>\n",
       "      <td>2.066</td>\n",
       "      <td>2.200</td>\n",
       "      <td>2.200</td>\n",
       "      <td>2.057</td>\n",
       "      <td>13651751.0</td>\n",
       "      <td>2.893832e+09</td>\n",
       "    </tr>\n",
       "    <tr>\n",
       "      <th>2022-04-28</th>\n",
       "      <td>2.172</td>\n",
       "      <td>2.158</td>\n",
       "      <td>2.194</td>\n",
       "      <td>2.138</td>\n",
       "      <td>7788323.0</td>\n",
       "      <td>1.683688e+09</td>\n",
       "    </tr>\n",
       "    <tr>\n",
       "      <th>2022-04-29</th>\n",
       "      <td>2.166</td>\n",
       "      <td>2.244</td>\n",
       "      <td>2.250</td>\n",
       "      <td>2.152</td>\n",
       "      <td>8381799.0</td>\n",
       "      <td>1.849314e+09</td>\n",
       "    </tr>\n",
       "    <tr>\n",
       "      <th>2022-05-05</th>\n",
       "      <td>2.200</td>\n",
       "      <td>2.212</td>\n",
       "      <td>2.244</td>\n",
       "      <td>2.174</td>\n",
       "      <td>7654924.0</td>\n",
       "      <td>1.693007e+09</td>\n",
       "    </tr>\n",
       "  </tbody>\n",
       "</table>\n",
       "</div>"
      ],
      "text/plain": [
       "             open  close   high    low           5             6\n",
       "date                                                            \n",
       "2022-03-21  2.639  2.636  2.666  2.614   4590040.0  1.212819e+09\n",
       "2022-03-22  2.623  2.602  2.626  2.589   3043426.0  7.928708e+08\n",
       "2022-03-23  2.619  2.629  2.639  2.597   3441752.0  9.022776e+08\n",
       "2022-03-24  2.605  2.620  2.638  2.571   4342960.0  1.128841e+09\n",
       "2022-03-25  2.612  2.565  2.627  2.559   5088554.0  1.313442e+09\n",
       "2022-03-28  2.540  2.512  2.545  2.494   5459154.0  1.374742e+09\n",
       "2022-03-29  2.517  2.511  2.548  2.499   4138832.0  1.044201e+09\n",
       "2022-03-30  2.527  2.610  2.610  2.524   5443448.0  1.401462e+09\n",
       "2022-03-31  2.595  2.574  2.600  2.563   3904354.0  1.006760e+09\n",
       "2022-04-01  2.550  2.580  2.599  2.548   4210102.0  1.086474e+09\n",
       "2022-04-06  2.566  2.550  2.577  2.533   3535043.0  9.004870e+08\n",
       "2022-04-07  2.535  2.496  2.547  2.495   4428186.0  1.112917e+09\n",
       "2022-04-08  2.496  2.491  2.525  2.467   3466390.0  8.641130e+08\n",
       "2022-04-11  2.460  2.386  2.465  2.378   6050103.0  1.456177e+09\n",
       "2022-04-12  2.386  2.440  2.442  2.381   4713928.0  1.136473e+09\n",
       "2022-04-13  2.418  2.394  2.433  2.391   4781737.0  1.152802e+09\n",
       "2022-04-14  2.420  2.389  2.430  2.365   7573057.0  1.810301e+09\n",
       "2022-04-15  2.360  2.385  2.406  2.339   5226941.0  1.238914e+09\n",
       "2022-04-18  2.361  2.412  2.413  2.335   5381764.0  1.280921e+09\n",
       "2022-04-19  2.398  2.377  2.430  2.368   4388862.0  1.049973e+09\n",
       "2022-04-20  2.376  2.288  2.376  2.284   8180802.0  1.899263e+09\n",
       "2022-04-21  2.270  2.240  2.304  2.227   6554452.0  1.485233e+09\n",
       "2022-04-22  2.221  2.225  2.252  2.207   5942086.0  1.324393e+09\n",
       "2022-04-25  2.177  2.103  2.192  2.103  10441595.0  2.241222e+09\n",
       "2022-04-26  2.103  2.086  2.150  2.083  10201517.0  2.151858e+09\n",
       "2022-04-27  2.066  2.200  2.200  2.057  13651751.0  2.893832e+09\n",
       "2022-04-28  2.172  2.158  2.194  2.138   7788323.0  1.683688e+09\n",
       "2022-04-29  2.166  2.244  2.250  2.152   8381799.0  1.849314e+09\n",
       "2022-05-05  2.200  2.212  2.244  2.174   7654924.0  1.693007e+09"
      ]
     },
     "execution_count": 42,
     "metadata": {},
     "output_type": "execute_result"
    }
   ],
   "source": [
    "df"
   ]
  },
  {
   "cell_type": "code",
   "execution_count": 43,
   "metadata": {},
   "outputs": [],
   "source": [
    "y = df['log'] = np.log(df.close)"
   ]
  },
  {
   "cell_type": "code",
   "execution_count": 59,
   "metadata": {},
   "outputs": [],
   "source": [
    "aaa = df.close\n",
    "aaa = list(aaa)"
   ]
  },
  {
   "cell_type": "code",
   "execution_count": 74,
   "metadata": {},
   "outputs": [],
   "source": [
    "close_price = [float('%.3f' % x) for x in list(df.close)]"
   ]
  },
  {
   "cell_type": "code",
   "execution_count": 76,
   "metadata": {},
   "outputs": [
    {
     "data": {
      "text/plain": [
       "array([0.95628038, 0.96660355, 0.96317432, 0.94195848, 0.92107925,\n",
       "       0.92068108, 0.95935022, 0.94546111, 0.9477894 , 0.93609336,\n",
       "       0.91468945, 0.91268424, 0.86961832, 0.89199804, 0.87296561,\n",
       "       0.87087487, 0.86919912, 0.88045628, 0.86583919, 0.82767807,\n",
       "       0.80647587, 0.79975692, 0.7433649 , 0.73524836, 0.78845736,\n",
       "       0.76918187, 0.80825999, 0.79389708, 3.40119738, 3.40119738])"
      ]
     },
     "execution_count": 76,
     "metadata": {},
     "output_type": "execute_result"
    }
   ],
   "source": [
    "close_price.append(30)\n",
    "np.log(close_price[-30:])"
   ]
  },
  {
   "cell_type": "code",
   "execution_count": 91,
   "metadata": {},
   "outputs": [],
   "source": [
    "x = df['num'] = np.arange(df.log.size)"
   ]
  },
  {
   "cell_type": "code",
   "execution_count": 92,
   "metadata": {},
   "outputs": [],
   "source": [
    "slope, intercept = np.polyfit(x, y, 1)\n",
    "#print(np.poly1d(np.polyfit(y,x,deg=1)))"
   ]
  },
  {
   "cell_type": "code",
   "execution_count": 93,
   "metadata": {},
   "outputs": [],
   "source": [
    "import math\n",
    "annualized_returns = math.pow(math.exp(slope), 250) - 1"
   ]
  },
  {
   "cell_type": "code",
   "execution_count": 94,
   "metadata": {},
   "outputs": [
    {
     "data": {
      "text/plain": [
       "-0.5669701655382637"
      ]
     },
     "execution_count": 94,
     "metadata": {},
     "output_type": "execute_result"
    }
   ],
   "source": [
    "annualized_returns"
   ]
  },
  {
   "cell_type": "code",
   "execution_count": 95,
   "metadata": {},
   "outputs": [],
   "source": [
    "r_squared = 1 - (sum( (y - (slope * x + intercept)) **2) / ((len(y) - 1) * np.var(y, ddof=1)))\n",
    "\n",
    "# 计算方式见：https://zh.wikipedia.org/wiki/%E5%86%B3%E5%AE%9A%E7%B3%BB%E6%95%B0\n",
    "# R^2 = 1-SSres/SStot\n",
    "# y平均 = (1/y.size) * sum(y)\n",
    "# 于是可以得到总平方和：SStot = sum((y - (1/y.size) * sum(y)) ** 2)\n",
    "# 残差平方和 : SSres = sum( (y - (slope*x + intercept) ** 2))\n",
    "# r^2 = 1 - (SSres / SStot )\n"
   ]
  },
  {
   "cell_type": "code",
   "execution_count": 96,
   "metadata": {},
   "outputs": [],
   "source": [
    "score = annualized_returns * r_squared"
   ]
  },
  {
   "cell_type": "code",
   "execution_count": 97,
   "metadata": {},
   "outputs": [
    {
     "data": {
      "text/plain": [
       "-0.3607548173648432"
      ]
     },
     "execution_count": 97,
     "metadata": {},
     "output_type": "execute_result"
    }
   ],
   "source": [
    "score"
   ]
  },
  {
   "cell_type": "code",
   "execution_count": 101,
   "metadata": {},
   "outputs": [
    {
     "data": {
      "text/plain": [
       "300"
      ]
     },
     "execution_count": 101,
     "metadata": {},
     "output_type": "execute_result"
    }
   ],
   "source": [
    "len(jq.get_index_stocks('000300.XSHG'))"
   ]
  },
  {
   "cell_type": "code",
   "execution_count": 103,
   "metadata": {},
   "outputs": [
    {
     "data": {
      "text/plain": [
       "str"
      ]
     },
     "execution_count": 103,
     "metadata": {},
     "output_type": "execute_result"
    }
   ],
   "source": [
    "current_dt = time.strftime(\"%Y-%m-%d\", time.localtime())\n",
    "type(current_dt)"
   ]
  },
  {
   "cell_type": "code",
   "execution_count": 4,
   "metadata": {},
   "outputs": [
    {
     "data": {
      "text/plain": [
       "000001.XSHE    1.546992\n",
       "dtype: float64"
      ]
     },
     "execution_count": 4,
     "metadata": {},
     "output_type": "execute_result"
    }
   ],
   "source": [
    "a = jq.alpha191.alpha_002('000001.XSHE','2022-04-25',fq ='pre')\n",
    "a"
   ]
  },
  {
   "cell_type": "code",
   "execution_count": 23,
   "metadata": {},
   "outputs": [],
   "source": [
    "import numpy as np"
   ]
  },
  {
   "cell_type": "code",
   "execution_count": 26,
   "metadata": {},
   "outputs": [],
   "source": [
    "res = np.random.random(30)"
   ]
  },
  {
   "cell_type": "code",
   "execution_count": 29,
   "metadata": {},
   "outputs": [
    {
     "data": {
      "text/plain": [
       "array([0.99884447, 0.67958418, 0.88828231, 0.04354752, 0.57668751,\n",
       "       0.80139849, 0.71613653, 0.631153  , 0.14471442, 0.17480676,\n",
       "       0.78181867, 0.46074292, 0.63703769, 0.44361304, 0.82883275,\n",
       "       0.87573151, 0.97453183, 0.10606381, 0.96502572, 0.37627687,\n",
       "       0.16455061, 0.25596103, 0.4561716 , 0.65338959, 0.45361525,\n",
       "       0.95517673, 0.47690019, 0.99547094, 0.24527365, 0.20973726])"
      ]
     },
     "execution_count": 29,
     "metadata": {},
     "output_type": "execute_result"
    }
   ],
   "source": [
    "res"
   ]
  },
  {
   "cell_type": "code",
   "execution_count": 30,
   "metadata": {},
   "outputs": [],
   "source": [
    "res = res.reshape((1,30,1))"
   ]
  },
  {
   "cell_type": "code",
   "execution_count": 31,
   "metadata": {},
   "outputs": [
    {
     "data": {
      "text/plain": [
       "array([[[0.99884447],\n",
       "        [0.67958418],\n",
       "        [0.88828231],\n",
       "        [0.04354752],\n",
       "        [0.57668751],\n",
       "        [0.80139849],\n",
       "        [0.71613653],\n",
       "        [0.631153  ],\n",
       "        [0.14471442],\n",
       "        [0.17480676],\n",
       "        [0.78181867],\n",
       "        [0.46074292],\n",
       "        [0.63703769],\n",
       "        [0.44361304],\n",
       "        [0.82883275],\n",
       "        [0.87573151],\n",
       "        [0.97453183],\n",
       "        [0.10606381],\n",
       "        [0.96502572],\n",
       "        [0.37627687],\n",
       "        [0.16455061],\n",
       "        [0.25596103],\n",
       "        [0.4561716 ],\n",
       "        [0.65338959],\n",
       "        [0.45361525],\n",
       "        [0.95517673],\n",
       "        [0.47690019],\n",
       "        [0.99547094],\n",
       "        [0.24527365],\n",
       "        [0.20973726]]])"
      ]
     },
     "execution_count": 31,
     "metadata": {},
     "output_type": "execute_result"
    }
   ],
   "source": [
    "res"
   ]
  },
  {
   "cell_type": "code",
   "execution_count": null,
   "metadata": {},
   "outputs": [],
   "source": [
    "# 函数新增代码\n",
    "def predict(history,code):\n",
    "    base_url = \"http://49.233.19.128:8080/index/\"\n",
    "    post_data = {\n",
    "        \"history_list\":history,\n",
    "        \"stock_code\":code \n",
    "    }\n",
    "    res = requests.post(\"http://49.233.19.128:8080/index/\",data=post_data)\n",
    "    d = json.loads(res.content.decode())\n",
    "    return float(d[\"predict_value\"])\n",
    "\n",
    "\n",
    "close_price = [float('%.3f' % float(x)) for x in list(data.close)]\n",
    "pre_value = predict(close_price,stock)\n",
    "close_price.append(pre_value)\n",
    "close_price = close_price[-30:]\n",
    "print(\"今日预测值：{}\".format(pre_value))"
   ]
  }
 ],
 "metadata": {
  "interpreter": {
   "hash": "487ee40a914d713106d7c7f5fa4b00442e508e6b917ea9f88eac1afae450fee7"
  },
  "kernelspec": {
   "display_name": "Python 3.9.5 ('base')",
   "language": "python",
   "name": "python3"
  },
  "language_info": {
   "codemirror_mode": {
    "name": "ipython",
    "version": 3
   },
   "file_extension": ".py",
   "mimetype": "text/x-python",
   "name": "python",
   "nbconvert_exporter": "python",
   "pygments_lexer": "ipython3",
   "version": "3.9.5"
  },
  "orig_nbformat": 4
 },
 "nbformat": 4,
 "nbformat_minor": 2
}
